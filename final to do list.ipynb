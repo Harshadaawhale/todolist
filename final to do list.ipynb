{
 "cells": [
  {
   "cell_type": "code",
   "execution_count": 2,
   "id": "fad1e5cd",
   "metadata": {},
   "outputs": [],
   "source": [
    "import tkinter as tk\n",
    "from tkinter import messagebox\n",
    "\n",
    "def add_t():\n",
    "    task = task_entry.get()\n",
    "    if task:\n",
    "        tasks_list.insert(tk.END, task)\n",
    "        task_entry.delete(0, tk.END)\n",
    "    else:\n",
    "        msg.show_warning(\"Warning!\", \"Please enter a task\")\n",
    "\n",
    "def remove_t():\n",
    "    selected_task = tasks_list.curselection()\n",
    "    if selected_task:\n",
    "        tasks_list.delete(selected_task)\n",
    "\n",
    "def clear_t():\n",
    "    tasks_list.delete(0, tk.END)\n",
    "\n",
    "# Create the main window\n",
    "root = tk.Tk()\n",
    "root.title(\"TO-DO-LIST\")\n",
    "\n",
    "\n",
    "# Create and place widgets\n",
    "\n",
    "tasks_list = tk.Listbox(root, font=(\"Constantia\",10,\"bold\"), width=40)\n",
    "tasks_list.pack(pady=10)\n",
    "\n",
    "task_entry = tk.Entry(root, width=45)\n",
    "task_entry.pack(pady=10)\n",
    "\n",
    "add_button = tk.Button(root, text=\"Add Task\",  command=add_t , font=(\"Arial Black\",9 ,\"bold\"), fg=\"white\", bg=\"grey\")\n",
    "add_button.pack()\n",
    "\n",
    "remove_button = tk.Button(root, text=\"Remove Task\", command=remove_t , font=(\"Arial Black\",9 ,\"bold\"),fg=\"white\" , bg=\"grey\")\n",
    "remove_button.pack()\n",
    "\n",
    "clear_button = tk.Button(root, text=\"Clear All Tasks\", command=clear_t , font=(\"Arial Black\",9 ,\"bold\"),fg=\"white\" , bg=\"grey\")\n",
    "clear_button.pack()\n",
    "\n",
    "\n",
    "# Start the main event loop\n",
    "root.mainloop()\n"
   ]
  },
  {
   "cell_type": "code",
   "execution_count": null,
   "id": "559de776",
   "metadata": {},
   "outputs": [],
   "source": []
  },
  {
   "cell_type": "code",
   "execution_count": null,
   "id": "4cc6e1c8",
   "metadata": {},
   "outputs": [],
   "source": []
  }
 ],
 "metadata": {
  "kernelspec": {
   "display_name": "Python 3 (ipykernel)",
   "language": "python",
   "name": "python3"
  },
  "language_info": {
   "codemirror_mode": {
    "name": "ipython",
    "version": 3
   },
   "file_extension": ".py",
   "mimetype": "text/x-python",
   "name": "python",
   "nbconvert_exporter": "python",
   "pygments_lexer": "ipython3",
   "version": "3.9.12"
  }
 },
 "nbformat": 4,
 "nbformat_minor": 5
}
